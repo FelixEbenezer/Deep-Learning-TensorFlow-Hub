{
  "nbformat": 4,
  "nbformat_minor": 0,
  "metadata": {
    "colab": {
      "name": "TensorFlow Hub - Perguntas e respostas.ipynb",
      "provenance": [],
      "collapsed_sections": [],
      "include_colab_link": true
    },
    "kernelspec": {
      "name": "python3",
      "display_name": "Python 3"
    },
    "language_info": {
      "name": "python"
    },
    "widgets": {
      "application/vnd.jupyter.widget-state+json": {
        "6147de5e4f0f45eb8700a4dd3dccfcd2": {
          "model_module": "@jupyter-widgets/controls",
          "model_name": "HBoxModel",
          "model_module_version": "1.5.0",
          "state": {
            "_dom_classes": [],
            "_model_module": "@jupyter-widgets/controls",
            "_model_module_version": "1.5.0",
            "_model_name": "HBoxModel",
            "_view_count": null,
            "_view_module": "@jupyter-widgets/controls",
            "_view_module_version": "1.5.0",
            "_view_name": "HBoxView",
            "box_style": "",
            "children": [
              "IPY_MODEL_4fe5b8a26dc54fa99a30cbec85699bd1",
              "IPY_MODEL_d91e5bf4f9d74e4d8295d87a86a68885",
              "IPY_MODEL_afaa75e582604831b7d6b7c7fbf5ab6c"
            ],
            "layout": "IPY_MODEL_cf7be4566ce24144a141641b351e7a10"
          }
        },
        "4fe5b8a26dc54fa99a30cbec85699bd1": {
          "model_module": "@jupyter-widgets/controls",
          "model_name": "HTMLModel",
          "model_module_version": "1.5.0",
          "state": {
            "_dom_classes": [],
            "_model_module": "@jupyter-widgets/controls",
            "_model_module_version": "1.5.0",
            "_model_name": "HTMLModel",
            "_view_count": null,
            "_view_module": "@jupyter-widgets/controls",
            "_view_module_version": "1.5.0",
            "_view_name": "HTMLView",
            "description": "",
            "description_tooltip": null,
            "layout": "IPY_MODEL_f860d4f521ea4a9f8deffb3209687fb8",
            "placeholder": "​",
            "style": "IPY_MODEL_21fd4006e90547d6b76359410b5f0f18",
            "value": "100%"
          }
        },
        "d91e5bf4f9d74e4d8295d87a86a68885": {
          "model_module": "@jupyter-widgets/controls",
          "model_name": "FloatProgressModel",
          "model_module_version": "1.5.0",
          "state": {
            "_dom_classes": [],
            "_model_module": "@jupyter-widgets/controls",
            "_model_module_version": "1.5.0",
            "_model_name": "FloatProgressModel",
            "_view_count": null,
            "_view_module": "@jupyter-widgets/controls",
            "_view_module_version": "1.5.0",
            "_view_name": "ProgressView",
            "bar_style": "success",
            "description": "",
            "description_tooltip": null,
            "layout": "IPY_MODEL_1dc97bb5b07a4361ae8574c55a8882a0",
            "max": 104,
            "min": 0,
            "orientation": "horizontal",
            "style": "IPY_MODEL_6953adb3432746ffb08a4c4994797a72",
            "value": 104
          }
        },
        "afaa75e582604831b7d6b7c7fbf5ab6c": {
          "model_module": "@jupyter-widgets/controls",
          "model_name": "HTMLModel",
          "model_module_version": "1.5.0",
          "state": {
            "_dom_classes": [],
            "_model_module": "@jupyter-widgets/controls",
            "_model_module_version": "1.5.0",
            "_model_name": "HTMLModel",
            "_view_count": null,
            "_view_module": "@jupyter-widgets/controls",
            "_view_module_version": "1.5.0",
            "_view_name": "HTMLView",
            "description": "",
            "description_tooltip": null,
            "layout": "IPY_MODEL_1d139fac1afd4ec3afd2d3b8f8e239aa",
            "placeholder": "​",
            "style": "IPY_MODEL_135d478ba39f4ed0b1281bee4ab76baf",
            "value": " 104/104 [22:00&lt;00:00, 12.42s/it]"
          }
        },
        "cf7be4566ce24144a141641b351e7a10": {
          "model_module": "@jupyter-widgets/base",
          "model_name": "LayoutModel",
          "model_module_version": "1.2.0",
          "state": {
            "_model_module": "@jupyter-widgets/base",
            "_model_module_version": "1.2.0",
            "_model_name": "LayoutModel",
            "_view_count": null,
            "_view_module": "@jupyter-widgets/base",
            "_view_module_version": "1.2.0",
            "_view_name": "LayoutView",
            "align_content": null,
            "align_items": null,
            "align_self": null,
            "border": null,
            "bottom": null,
            "display": null,
            "flex": null,
            "flex_flow": null,
            "grid_area": null,
            "grid_auto_columns": null,
            "grid_auto_flow": null,
            "grid_auto_rows": null,
            "grid_column": null,
            "grid_gap": null,
            "grid_row": null,
            "grid_template_areas": null,
            "grid_template_columns": null,
            "grid_template_rows": null,
            "height": null,
            "justify_content": null,
            "justify_items": null,
            "left": null,
            "margin": null,
            "max_height": null,
            "max_width": null,
            "min_height": null,
            "min_width": null,
            "object_fit": null,
            "object_position": null,
            "order": null,
            "overflow": null,
            "overflow_x": null,
            "overflow_y": null,
            "padding": null,
            "right": null,
            "top": null,
            "visibility": null,
            "width": null
          }
        },
        "f860d4f521ea4a9f8deffb3209687fb8": {
          "model_module": "@jupyter-widgets/base",
          "model_name": "LayoutModel",
          "model_module_version": "1.2.0",
          "state": {
            "_model_module": "@jupyter-widgets/base",
            "_model_module_version": "1.2.0",
            "_model_name": "LayoutModel",
            "_view_count": null,
            "_view_module": "@jupyter-widgets/base",
            "_view_module_version": "1.2.0",
            "_view_name": "LayoutView",
            "align_content": null,
            "align_items": null,
            "align_self": null,
            "border": null,
            "bottom": null,
            "display": null,
            "flex": null,
            "flex_flow": null,
            "grid_area": null,
            "grid_auto_columns": null,
            "grid_auto_flow": null,
            "grid_auto_rows": null,
            "grid_column": null,
            "grid_gap": null,
            "grid_row": null,
            "grid_template_areas": null,
            "grid_template_columns": null,
            "grid_template_rows": null,
            "height": null,
            "justify_content": null,
            "justify_items": null,
            "left": null,
            "margin": null,
            "max_height": null,
            "max_width": null,
            "min_height": null,
            "min_width": null,
            "object_fit": null,
            "object_position": null,
            "order": null,
            "overflow": null,
            "overflow_x": null,
            "overflow_y": null,
            "padding": null,
            "right": null,
            "top": null,
            "visibility": null,
            "width": null
          }
        },
        "21fd4006e90547d6b76359410b5f0f18": {
          "model_module": "@jupyter-widgets/controls",
          "model_name": "DescriptionStyleModel",
          "model_module_version": "1.5.0",
          "state": {
            "_model_module": "@jupyter-widgets/controls",
            "_model_module_version": "1.5.0",
            "_model_name": "DescriptionStyleModel",
            "_view_count": null,
            "_view_module": "@jupyter-widgets/base",
            "_view_module_version": "1.2.0",
            "_view_name": "StyleView",
            "description_width": ""
          }
        },
        "1dc97bb5b07a4361ae8574c55a8882a0": {
          "model_module": "@jupyter-widgets/base",
          "model_name": "LayoutModel",
          "model_module_version": "1.2.0",
          "state": {
            "_model_module": "@jupyter-widgets/base",
            "_model_module_version": "1.2.0",
            "_model_name": "LayoutModel",
            "_view_count": null,
            "_view_module": "@jupyter-widgets/base",
            "_view_module_version": "1.2.0",
            "_view_name": "LayoutView",
            "align_content": null,
            "align_items": null,
            "align_self": null,
            "border": null,
            "bottom": null,
            "display": null,
            "flex": null,
            "flex_flow": null,
            "grid_area": null,
            "grid_auto_columns": null,
            "grid_auto_flow": null,
            "grid_auto_rows": null,
            "grid_column": null,
            "grid_gap": null,
            "grid_row": null,
            "grid_template_areas": null,
            "grid_template_columns": null,
            "grid_template_rows": null,
            "height": null,
            "justify_content": null,
            "justify_items": null,
            "left": null,
            "margin": null,
            "max_height": null,
            "max_width": null,
            "min_height": null,
            "min_width": null,
            "object_fit": null,
            "object_position": null,
            "order": null,
            "overflow": null,
            "overflow_x": null,
            "overflow_y": null,
            "padding": null,
            "right": null,
            "top": null,
            "visibility": null,
            "width": null
          }
        },
        "6953adb3432746ffb08a4c4994797a72": {
          "model_module": "@jupyter-widgets/controls",
          "model_name": "ProgressStyleModel",
          "model_module_version": "1.5.0",
          "state": {
            "_model_module": "@jupyter-widgets/controls",
            "_model_module_version": "1.5.0",
            "_model_name": "ProgressStyleModel",
            "_view_count": null,
            "_view_module": "@jupyter-widgets/base",
            "_view_module_version": "1.2.0",
            "_view_name": "StyleView",
            "bar_color": null,
            "description_width": ""
          }
        },
        "1d139fac1afd4ec3afd2d3b8f8e239aa": {
          "model_module": "@jupyter-widgets/base",
          "model_name": "LayoutModel",
          "model_module_version": "1.2.0",
          "state": {
            "_model_module": "@jupyter-widgets/base",
            "_model_module_version": "1.2.0",
            "_model_name": "LayoutModel",
            "_view_count": null,
            "_view_module": "@jupyter-widgets/base",
            "_view_module_version": "1.2.0",
            "_view_name": "LayoutView",
            "align_content": null,
            "align_items": null,
            "align_self": null,
            "border": null,
            "bottom": null,
            "display": null,
            "flex": null,
            "flex_flow": null,
            "grid_area": null,
            "grid_auto_columns": null,
            "grid_auto_flow": null,
            "grid_auto_rows": null,
            "grid_column": null,
            "grid_gap": null,
            "grid_row": null,
            "grid_template_areas": null,
            "grid_template_columns": null,
            "grid_template_rows": null,
            "height": null,
            "justify_content": null,
            "justify_items": null,
            "left": null,
            "margin": null,
            "max_height": null,
            "max_width": null,
            "min_height": null,
            "min_width": null,
            "object_fit": null,
            "object_position": null,
            "order": null,
            "overflow": null,
            "overflow_x": null,
            "overflow_y": null,
            "padding": null,
            "right": null,
            "top": null,
            "visibility": null,
            "width": null
          }
        },
        "135d478ba39f4ed0b1281bee4ab76baf": {
          "model_module": "@jupyter-widgets/controls",
          "model_name": "DescriptionStyleModel",
          "model_module_version": "1.5.0",
          "state": {
            "_model_module": "@jupyter-widgets/controls",
            "_model_module_version": "1.5.0",
            "_model_name": "DescriptionStyleModel",
            "_view_count": null,
            "_view_module": "@jupyter-widgets/base",
            "_view_module_version": "1.2.0",
            "_view_name": "StyleView",
            "description_width": ""
          }
        }
      }
    }
  },
  "cells": [
    {
      "cell_type": "markdown",
      "metadata": {
        "id": "view-in-github",
        "colab_type": "text"
      },
      "source": [
        "<a href=\"https://colab.research.google.com/github/FelixEbenezer/Deep-Learning-TensorFlow-Hub/blob/main/TensorFlow_Hub_Perguntas_e_respostas.ipynb\" target=\"_parent\"><img src=\"https://colab.research.google.com/assets/colab-badge.svg\" alt=\"Open In Colab\"/></a>"
      ]
    },
    {
      "cell_type": "markdown",
      "source": [
        "# TensorFlow Hub - Perguntas e respostas\n",
        "\n",
        "- Baseado em: https://www.tensorflow.org/hub/tutorials/retrieval_with_tf_hub_universal_encoder_qa?hl=pt-br\n",
        "- Biblioteca Simple Neighbors: https://pypi.org/project/simpleneighbors/"
      ],
      "metadata": {
        "id": "D82bPLzKhj1T"
      }
    },
    {
      "cell_type": "markdown",
      "source": [
        "# Instalação e importação das bibliotecas"
      ],
      "metadata": {
        "id": "hKCEbZRChmb9"
      }
    },
    {
      "cell_type": "code",
      "source": [
        "!pip install -q tensorflow_text\n",
        "!pip install -q simpleneighbors[annoy]\n",
        "!pip install -q nltk\n",
        "!pip install -q tqdm"
      ],
      "metadata": {
        "colab": {
          "base_uri": "https://localhost:8080/"
        },
        "id": "h75g_1-oDhr6",
        "outputId": "b14a3553-f1da-4abc-9cb6-0cb26ea275fd"
      },
      "execution_count": null,
      "outputs": [
        {
          "metadata": {
            "tags": null
          },
          "name": "stdout",
          "output_type": "stream",
          "text": [
            "\u001b[K     |████████████████████████████████| 4.6 MB 5.2 MB/s \n",
            "\u001b[K     |████████████████████████████████| 511.7 MB 5.8 kB/s \n",
            "\u001b[K     |████████████████████████████████| 5.8 MB 45.1 MB/s \n",
            "\u001b[K     |████████████████████████████████| 438 kB 74.1 MB/s \n",
            "\u001b[K     |████████████████████████████████| 1.6 MB 49.5 MB/s \n",
            "\u001b[K     |████████████████████████████████| 646 kB 5.3 MB/s \n",
            "\u001b[?25h  Building wheel for annoy (setup.py) ... \u001b[?25l\u001b[?25hdone\n"
          ]
        }
      ]
    },
    {
      "cell_type": "code",
      "source": [
        "import json\n",
        "import nltk\n",
        "import os\n",
        "import pprint\n",
        "import random\n",
        "import simpleneighbors\n",
        "import urllib\n",
        "from IPython.display import HTML, display\n",
        "from tqdm.notebook import tqdm\n",
        "import tensorflow.compat.v2 as tf\n",
        "import tensorflow_hub as hub\n",
        "from tensorflow_text import SentencepieceTokenizer\n",
        "nltk.download('punkt')\n",
        "print('Versão do TensorFlow: ', tf.__version__)\n",
        "print('Versão do TensorFlow Hub:', hub.__version__ )"
      ],
      "metadata": {
        "colab": {
          "base_uri": "https://localhost:8080/"
        },
        "id": "9SJTAS9AEWSc",
        "outputId": "a5a786e0-7196-488a-eb72-20f7373e8407"
      },
      "execution_count": null,
      "outputs": [
        {
          "output_type": "stream",
          "name": "stdout",
          "text": [
            "Versão do TensorFlow:  2.9.1\n",
            "Versão do TensorFlow Hub: 0.12.0\n"
          ]
        },
        {
          "output_type": "stream",
          "name": "stderr",
          "text": [
            "[nltk_data] Downloading package punkt to /root/nltk_data...\n",
            "[nltk_data]   Package punkt is already up-to-date!\n"
          ]
        }
      ]
    },
    {
      "cell_type": "markdown",
      "source": [
        "# Base de dados SQUAD\n",
        "\n",
        "- Documentação: https://rajpurkar.github.io/SQuAD-explorer/"
      ],
      "metadata": {
        "id": "fd31zj9oh3CZ"
      }
    },
    {
      "cell_type": "code",
      "source": [
        "squad_url = 'https://rajpurkar.github.io/SQuAD-explorer/dataset/dev-v1.1.json'\n",
        "squad_json = json.load(urllib.request.urlopen(squad_url))"
      ],
      "metadata": {
        "id": "dbLXQ4FGFwFs"
      },
      "execution_count": null,
      "outputs": []
    },
    {
      "cell_type": "code",
      "source": [
        "squad_json"
      ],
      "metadata": {
        "id": "ok2cXlJpGAtW"
      },
      "execution_count": null,
      "outputs": []
    },
    {
      "cell_type": "code",
      "source": [
        "nltk.tokenize.sent_tokenize('Computational complexity theory is a branch of the theory of computation in theoretical computer science that focuses on classifying computational problems according to their inherent difficulty, and relating those classes to each other. A computational problem is understood to be a task that is in principle amenable to being solved by a computer, which is equivalent to stating that the problem may be solved by mechanical application of mathematical steps, such as an algorithm.')"
      ],
      "metadata": {
        "colab": {
          "base_uri": "https://localhost:8080/"
        },
        "id": "uBq0E9s9IO8-",
        "outputId": "9eb905b3-af40-48c3-cefd-2d200a763879"
      },
      "execution_count": null,
      "outputs": [
        {
          "output_type": "execute_result",
          "data": {
            "text/plain": [
              "['Computational complexity theory is a branch of the theory of computation in theoretical computer science that focuses on classifying computational problems according to their inherent difficulty, and relating those classes to each other.',\n",
              " 'A computational problem is understood to be a task that is in principle amenable to being solved by a computer, which is equivalent to stating that the problem may be solved by mechanical application of mathematical steps, such as an algorithm.']"
            ]
          },
          "metadata": {},
          "execution_count": 5
        }
      ]
    },
    {
      "cell_type": "code",
      "source": [
        "def extrair_sentencas(squad):\n",
        "  todas_sentencas = []\n",
        "  for data in squad['data']:\n",
        "    for paragraph in data['paragraphs']:\n",
        "      sentencas = nltk.tokenize.sent_tokenize(paragraph['context'])\n",
        "      #print(sentencas)\n",
        "      todas_sentencas.extend(zip(sentencas, [paragraph['context']] * len(sentencas)))\n",
        "  return list(set(todas_sentencas))"
      ],
      "metadata": {
        "id": "SsQdgTRkHC0n"
      },
      "execution_count": null,
      "outputs": []
    },
    {
      "cell_type": "code",
      "source": [
        "sentencas = extrair_sentencas(squad_json)"
      ],
      "metadata": {
        "id": "AtbbH5OWIddH"
      },
      "execution_count": null,
      "outputs": []
    },
    {
      "cell_type": "code",
      "source": [
        "len(sentencas)"
      ],
      "metadata": {
        "colab": {
          "base_uri": "https://localhost:8080/"
        },
        "id": "VdK0DHw6JGmi",
        "outputId": "e96344e4-3478-4f74-c86e-0333bb795053"
      },
      "execution_count": null,
      "outputs": [
        {
          "output_type": "execute_result",
          "data": {
            "text/plain": [
              "10452"
            ]
          },
          "metadata": {},
          "execution_count": 10
        }
      ]
    },
    {
      "cell_type": "code",
      "source": [
        "sentencas[0:5]"
      ],
      "metadata": {
        "colab": {
          "base_uri": "https://localhost:8080/"
        },
        "id": "h60v_mjOJKBC",
        "outputId": "5bae8c9b-d4d6-40e4-bdd4-ec2d9850fdb7"
      },
      "execution_count": null,
      "outputs": [
        {
          "output_type": "execute_result",
          "data": {
            "text/plain": [
              "[(\"Other main architectural attractions include the Castle Square with the Royal Castle and the iconic King Sigismund's Column, St. John's Cathedral, Market Square, palaces, churches and mansions all displaying a richness of colour and architectural detail.\",\n",
              "  \"The city is the seat of a Roman Catholic archdiocese (left bank of the Vistula) and diocese (right bank), and possesses various universities, most notably the Polish Academy of Sciences and the University of Warsaw, two opera houses, theatres, museums, libraries and monuments. The historic city-centre of Warsaw with its picturesque Old Town in 1980 was listed as a UNESCO World Heritage Site. Other main architectural attractions include the Castle Square with the Royal Castle and the iconic King Sigismund's Column, St. John's Cathedral, Market Square, palaces, churches and mansions all displaying a richness of colour and architectural detail. Buildings represent examples of nearly every European architectural style and historical period. Warsaw provides many examples of architecture from the gothic, renaissance, baroque and neoclassical periods, and around a quarter of the city is filled with luxurious parks and royal gardens.\"),\n",
              " ('Here a different picture is presented of a Luther who deeply valued both faith and reason, and held them in dialectical partnership.',\n",
              "  'Some scholars have asserted that Luther taught that faith and reason were antithetical in the sense that questions of faith could not be illuminated by reason. He wrote, \"All the articles of our Christian faith, which God has revealed to us in His Word, are in presence of reason sheerly impossible, absurd, and false.\" and \"[That] Reason in no way contributes to faith. [...] For reason is the greatest enemy that faith has; it never comes to the aid of spiritual things.\" However, though seemingly contradictorily, he also wrote in the latter work that human reason \"strives not against faith, when enlightened, but rather furthers and advances it\", bringing claims he was a fideist into dispute. Contemporary Lutheran scholarship, however, has found a different reality in Luther. Luther rather seeks to separate faith and reason in order to honor the separate spheres of knowledge that each applies to. Bernhard Lohse, for example, has demonstrated in his classic work \"Fides und Ratio\" that Luther ultimately sought to put the two together. More recently, Hans-Peter Grosshans has demonstrated that Luther\\'s work on Biblical Criticism stresses the need for external coherence in the right exegetical method. This means that for Luther it is more important that the Bible is reasonable according to the reality outside of the scriptures than that the Bible makes sense to itself, that it has internal coherence. The right tool for understanding the world outside of the Bible for Luther is none other than reason, which for him is the field of science, philosophy, history and empirical observation. Here a different picture is presented of a Luther who deeply valued both faith and reason, and held them in dialectical partnership. Luther\\'s concern thus in separating them is honoring their different epistemological spheres.'),\n",
              " (\"The FIS won sweeping victories in local elections and it was going to win national elections in 1991 when voting was canceled by a military coup d'état.\",\n",
              "  \"An Islamist movement influenced by Salafism and the jihad in Afghanistan, as well as the Muslim Brotherhood, was the FIS or Front Islamique de Salut (the Islamic Salvation Front) in Algeria. Founded as a broad Islamist coalition in 1989 it was led by Abbassi Madani, and a charismatic Islamist young preacher, Ali Belhadj. Taking advantage of economic failure and unpopular social liberalization and secularization by the ruling leftist-nationalist FLN government, it used its preaching to advocate the establishment of a legal system following Sharia law, economic liberalization and development program, education in Arabic rather than French, and gender segregation, with women staying home to alleviate the high rate of unemployment among young Algerian men. The FIS won sweeping victories in local elections and it was going to win national elections in 1991 when voting was canceled by a military coup d'état.\"),\n",
              " (':245',\n",
              "  \"There have been subsequent claims by Tesla biographers that Edison and Tesla were the original recipients and that neither was given the award because of their animosity toward each other; that each sought to minimize the other's achievements and right to win the award; that both refused ever to accept the award if the other received it first; that both rejected any possibility of sharing it; and even that a wealthy Edison refused it to keep Tesla from getting the $20,000 prize money.:245\"),\n",
              " (\"Under defensive coordinator Wade Phillips, the Broncos' defense ranked number one in total yards allowed, passing yards allowed and sacks, and like the previous three seasons, the team has continued to set numerous individual, league and franchise records.\",\n",
              "  \"Following their loss in the divisional round of the previous season's playoffs, the Denver Broncos underwent numerous coaching changes, including a mutual parting with head coach John Fox (who had won four divisional championships in his four years as Broncos head coach), and the hiring of Gary Kubiak as the new head coach. Under Kubiak, the Broncos planned to install a run-oriented offense with zone blocking to blend in with quarterback Peyton Manning's shotgun passing skills, but struggled with numerous changes and injuries to the offensive line, as well as Manning having his worst statistical season since his rookie year with the Indianapolis Colts in 1998, due to a plantar fasciitis injury in his heel that he had suffered since the summer, and the simple fact that Manning was getting old, as he turned 39 in the 2015 off-season. Although the team had a 7–0 start, Manning led the NFL in interceptions. In week 10, Manning suffered a partial tear of the plantar fasciitis in his left foot. He set the NFL's all-time record for career passing yards in this game, but was benched after throwing four interceptions in favor of backup quarterback Brock Osweiler, who took over as the starter for most of the remainder of the regular season. Osweiler was injured, however, leading to Manning's return during the Week 17 regular season finale, where the Broncos were losing 13–7 against the 4–11 San Diego Chargers, resulting in Manning re-claiming the starting quarterback position for the playoffs by leading the team to a key 27–20 win that enabled the team to clinch the number one overall AFC seed. Under defensive coordinator Wade Phillips, the Broncos' defense ranked number one in total yards allowed, passing yards allowed and sacks, and like the previous three seasons, the team has continued to set numerous individual, league and franchise records. With the defense carrying the team despite the issues with the offense, the Broncos finished the regular season with a 12–4 record and earned home-field advantage throughout the AFC playoffs.\")]"
            ]
          },
          "metadata": {},
          "execution_count": 11
        }
      ]
    },
    {
      "cell_type": "code",
      "source": [
        "def extrair_perguntas_respostas(squad):\n",
        "  perguntas_respostas = []\n",
        "  for data in squad['data']:\n",
        "    for paragraph in data['paragraphs']:\n",
        "      for qas in paragraph['qas']:\n",
        "        if qas['answers']:\n",
        "          perguntas_respostas.append((qas['question'], qas['answers'][0]['text']))\n",
        "  return list(set(perguntas_respostas))"
      ],
      "metadata": {
        "id": "6tSgkrEEJkng"
      },
      "execution_count": null,
      "outputs": []
    },
    {
      "cell_type": "code",
      "source": [
        "perguntas_respostas = extrair_perguntas_respostas(squad_json)"
      ],
      "metadata": {
        "id": "Z96dpL0-KsTW"
      },
      "execution_count": null,
      "outputs": []
    },
    {
      "cell_type": "code",
      "source": [
        "len(perguntas_respostas)"
      ],
      "metadata": {
        "colab": {
          "base_uri": "https://localhost:8080/"
        },
        "id": "x5QRp0eyLDXE",
        "outputId": "9d9ce3d5-b367-4a38-bd93-2deab60737d9"
      },
      "execution_count": null,
      "outputs": [
        {
          "output_type": "execute_result",
          "data": {
            "text/plain": [
              "10552"
            ]
          },
          "metadata": {},
          "execution_count": 18
        }
      ]
    },
    {
      "cell_type": "code",
      "source": [
        "perguntas_respostas[0:10]"
      ],
      "metadata": {
        "colab": {
          "base_uri": "https://localhost:8080/"
        },
        "id": "Ywp4nY7iLHeD",
        "outputId": "ccb95cd3-7c9e-48b3-9974-d3df794aeb83"
      },
      "execution_count": null,
      "outputs": [
        {
          "output_type": "execute_result",
          "data": {
            "text/plain": [
              "[('What did Davies call the System ', 'packet switching'),\n",
              " (\"Which country does the Rhine encounter it's main tributaries?\", 'Germany'),\n",
              " ('What is the United States at risk for because of the recession of 2008?',\n",
              "  'boom-and-bust cycles'),\n",
              " ('How can you find the absolute age of sedimentary rock units which do not contain radioactive isotopes?',\n",
              "  'Dating of lava and volcanic ash layers found within a stratigraphic sequence'),\n",
              " ('What is the name of world renowned cellist is a former Harvard student?',\n",
              "  'Yo Yo Ma'),\n",
              " ('Who hosts the weeknight talk show featured on ABC networks?',\n",
              "  'Jimmy Kimmel'),\n",
              " ('What is the shortened name of the annual yacht race that takes place?',\n",
              "  'Transpac'),\n",
              " ('What is a complex net of contracts and other legal obligations?',\n",
              "  'A construction project'),\n",
              " ('Where was Genghis Khan buried?',\n",
              "  'somewhere in Mongolia at an unknown location'),\n",
              " ('What lands were reserved for natives?',\n",
              "  'west of the Appalachian Mountains')]"
            ]
          },
          "metadata": {},
          "execution_count": 19
        }
      ]
    },
    {
      "cell_type": "code",
      "source": [
        "print('Sentença e contexto:\\n')\n",
        "sentenca = random.choice(sentencas)\n",
        "print('Sentença: ')\n",
        "pprint.pprint(sentenca[0])\n",
        "print('\\nContexto:\\n')\n",
        "pprint.pprint(sentenca[1])\n",
        "print()"
      ],
      "metadata": {
        "colab": {
          "base_uri": "https://localhost:8080/"
        },
        "id": "UWR5MJc5LVZS",
        "outputId": "ddb048fa-d0f1-43fe-98d0-b6138ce38eea"
      },
      "execution_count": null,
      "outputs": [
        {
          "output_type": "stream",
          "name": "stdout",
          "text": [
            "Sentença e contexto:\n",
            "\n",
            "Sentença: \n",
            "('The astronauts would begin wearing a new Apollo spacesuit, designed to '\n",
            " 'accommodate lunar extravehicular activity (EVA).')\n",
            "\n",
            "Contexto:\n",
            "\n",
            "('After an unmanned LM test flight AS-206, a crew would fly the first Block II '\n",
            " 'CSM and LM in a dual mission known as AS-207/208, or AS-278 (each spacecraft '\n",
            " 'would be launched on a separate Saturn IB.) The Block II crew positions were '\n",
            " 'titled Commander (CDR) Command Module Pilot (CMP) and Lunar Module Pilot '\n",
            " '(LMP). The astronauts would begin wearing a new Apollo spacesuit, designed '\n",
            " 'to accommodate lunar extravehicular activity (EVA). The traditional visor '\n",
            " 'helmet was replaced with a clear \"fishbowl\" type for greater visibility, and '\n",
            " 'the lunar surface EVA suit would include a water-cooled undergarment.')\n",
            "\n"
          ]
        }
      ]
    },
    {
      "cell_type": "markdown",
      "source": [
        "# Criação do índice"
      ],
      "metadata": {
        "id": "eaXMGXPIlwiA"
      }
    },
    {
      "cell_type": "code",
      "source": [
        "# Mais modelos: https://tfhub.dev/s?dataset=squad\n",
        "caminho_modelo = 'https://tfhub.dev/google/universal-sentence-encoder-multilingual-qa/3'\n",
        "modelo = hub.load(caminho_modelo)"
      ],
      "metadata": {
        "id": "Xps1eqBzNMsL"
      },
      "execution_count": null,
      "outputs": []
    },
    {
      "cell_type": "code",
      "source": [
        "sentencas[0][0]"
      ],
      "metadata": {
        "colab": {
          "base_uri": "https://localhost:8080/",
          "height": 72
        },
        "id": "Nvp96SnzOqdY",
        "outputId": "c0ef147b-885f-4cb1-eba8-3b94b1dc89cb"
      },
      "execution_count": null,
      "outputs": [
        {
          "output_type": "execute_result",
          "data": {
            "text/plain": [
              "\"Other main architectural attractions include the Castle Square with the Royal Castle and the iconic King Sigismund's Column, St. John's Cathedral, Market Square, palaces, churches and mansions all displaying a richness of colour and architectural detail.\""
            ],
            "application/vnd.google.colaboratory.intrinsic+json": {
              "type": "string"
            }
          },
          "metadata": {},
          "execution_count": 32
        }
      ]
    },
    {
      "cell_type": "code",
      "source": [
        "sentencas[0][1]"
      ],
      "metadata": {
        "colab": {
          "base_uri": "https://localhost:8080/",
          "height": 160
        },
        "id": "Efqc1SjaOt-a",
        "outputId": "65098ed0-091d-452a-a112-cc3ca8f8eb82"
      },
      "execution_count": null,
      "outputs": [
        {
          "output_type": "execute_result",
          "data": {
            "text/plain": [
              "\"The city is the seat of a Roman Catholic archdiocese (left bank of the Vistula) and diocese (right bank), and possesses various universities, most notably the Polish Academy of Sciences and the University of Warsaw, two opera houses, theatres, museums, libraries and monuments. The historic city-centre of Warsaw with its picturesque Old Town in 1980 was listed as a UNESCO World Heritage Site. Other main architectural attractions include the Castle Square with the Royal Castle and the iconic King Sigismund's Column, St. John's Cathedral, Market Square, palaces, churches and mansions all displaying a richness of colour and architectural detail. Buildings represent examples of nearly every European architectural style and historical period. Warsaw provides many examples of architecture from the gothic, renaissance, baroque and neoclassical periods, and around a quarter of the city is filled with luxurious parks and royal gardens.\""
            ],
            "application/vnd.google.colaboratory.intrinsic+json": {
              "type": "string"
            }
          },
          "metadata": {},
          "execution_count": 33
        }
      ]
    },
    {
      "cell_type": "code",
      "source": [
        "encodings = modelo.signatures['response_encoder'](input = tf.constant([sentencas[0][0]]), \n",
        "                                                  context = tf.constant([sentencas[0][1]]))"
      ],
      "metadata": {
        "id": "AsueaFmwNgn2"
      },
      "execution_count": null,
      "outputs": []
    },
    {
      "cell_type": "code",
      "source": [
        "len(encodings['outputs'][0])"
      ],
      "metadata": {
        "colab": {
          "base_uri": "https://localhost:8080/"
        },
        "id": "iwV0f-hhO7E9",
        "outputId": "2127eb67-57ca-4c86-c921-e53378471384"
      },
      "execution_count": null,
      "outputs": [
        {
          "output_type": "execute_result",
          "data": {
            "text/plain": [
              "512"
            ]
          },
          "metadata": {},
          "execution_count": 36
        }
      ]
    },
    {
      "cell_type": "code",
      "source": [
        "indice = simpleneighbors.SimpleNeighbors(len(encodings['outputs'][0]), metric = 'angular')"
      ],
      "metadata": {
        "id": "QcRGk1YoPMLI"
      },
      "execution_count": null,
      "outputs": []
    },
    {
      "cell_type": "code",
      "source": [
        "batch_size = 100\n",
        "slices = zip(*(iter(sentencas),) * batch_size)\n",
        "num_batches = int(len(sentencas) / batch_size)\n",
        "num_batches"
      ],
      "metadata": {
        "colab": {
          "base_uri": "https://localhost:8080/"
        },
        "id": "hhdchIG1Per7",
        "outputId": "be4f010b-e6d8-48c5-a0a3-1c639c5c5a32"
      },
      "execution_count": null,
      "outputs": [
        {
          "output_type": "execute_result",
          "data": {
            "text/plain": [
              "104"
            ]
          },
          "metadata": {},
          "execution_count": 38
        }
      ]
    },
    {
      "cell_type": "code",
      "source": [
        "104 * 100"
      ],
      "metadata": {
        "colab": {
          "base_uri": "https://localhost:8080/"
        },
        "id": "tLVIKVv_PyCU",
        "outputId": "a5b00810-67c4-4917-8f3b-66ca297023fc"
      },
      "execution_count": null,
      "outputs": [
        {
          "output_type": "execute_result",
          "data": {
            "text/plain": [
              "10400"
            ]
          },
          "metadata": {},
          "execution_count": 39
        }
      ]
    },
    {
      "cell_type": "code",
      "source": [
        "for s in tqdm(slices, total = num_batches):\n",
        "  batch_resposta = list([r for r, c in s])\n",
        "  batch_contexto = list([c for r, c in s])\n",
        "  encodings = modelo.signatures['response_encoder'](input=tf.constant(batch_resposta), context=tf.constant(batch_contexto))\n",
        "  for batch_index, batch in enumerate(batch_resposta):\n",
        "    indice.add_one(batch, encodings['outputs'][batch_index])\n",
        "indice.build()"
      ],
      "metadata": {
        "colab": {
          "base_uri": "https://localhost:8080/",
          "height": 49,
          "referenced_widgets": [
            "6147de5e4f0f45eb8700a4dd3dccfcd2",
            "4fe5b8a26dc54fa99a30cbec85699bd1",
            "d91e5bf4f9d74e4d8295d87a86a68885",
            "afaa75e582604831b7d6b7c7fbf5ab6c",
            "cf7be4566ce24144a141641b351e7a10",
            "f860d4f521ea4a9f8deffb3209687fb8",
            "21fd4006e90547d6b76359410b5f0f18",
            "1dc97bb5b07a4361ae8574c55a8882a0",
            "6953adb3432746ffb08a4c4994797a72",
            "1d139fac1afd4ec3afd2d3b8f8e239aa",
            "135d478ba39f4ed0b1281bee4ab76baf"
          ]
        },
        "id": "2_3qGb6kP2P0",
        "outputId": "2d56f410-2fe4-4993-c2c3-8c50e41bbe3a"
      },
      "execution_count": null,
      "outputs": [
        {
          "output_type": "display_data",
          "data": {
            "text/plain": [
              "  0%|          | 0/104 [00:00<?, ?it/s]"
            ],
            "application/vnd.jupyter.widget-view+json": {
              "version_major": 2,
              "version_minor": 0,
              "model_id": "6147de5e4f0f45eb8700a4dd3dccfcd2"
            }
          },
          "metadata": {}
        }
      ]
    },
    {
      "cell_type": "markdown",
      "source": [
        "# Visualização dos resultados"
      ],
      "metadata": {
        "id": "tGIqYbm7BX-x"
      }
    },
    {
      "cell_type": "code",
      "source": [
        "numero_resultados = 10\n",
        "pergunta_resposta = random.choice(perguntas_respostas)\n",
        "print(pergunta_resposta)"
      ],
      "metadata": {
        "colab": {
          "base_uri": "https://localhost:8080/"
        },
        "id": "fYnUXO3_XBnF",
        "outputId": "9db6b7da-c89b-4955-a1aa-340e2865bab9"
      },
      "execution_count": null,
      "outputs": [
        {
          "output_type": "stream",
          "name": "stdout",
          "text": [
            "('What monarchy did western troops protect?', 'Saudi')\n"
          ]
        }
      ]
    },
    {
      "cell_type": "code",
      "source": [
        "def mostra_resultados(texto_consulta, resposta):\n",
        "  embedding_consulta = modelo.signatures['question_encoder'](tf.constant([texto_consulta]))['outputs'][0]\n",
        "  #print(embedding_consulta)\n",
        "  resultados_busca = indice.nearest(embedding_consulta, n = numero_resultados)\n",
        "  \n",
        "  resultado_formatado = '''\n",
        "  <p>Pergunta randômica selecionada do SQUAD</p>\n",
        "  <p>&nbsp;&nbsp;<b>%s</b></p>\n",
        "  <p>Resposta:</p>\n",
        "  <p>&nbsp;&nbsp;<b>%s</b></p>\n",
        "  ''' % (texto_consulta, resposta)\n",
        "\n",
        "  resultado_formatado += '<ol>'\n",
        "  for s in resultados_busca:\n",
        "    resultado_formatado += '<li>'\n",
        "    resultado_formatado += s\n",
        "    resultado_formatado += '</li>'\n",
        "  resultado_formatado += '</ol>'\n",
        "\n",
        "  display(HTML(resultado_formatado))"
      ],
      "metadata": {
        "id": "_rvy6ww4XSdf"
      },
      "execution_count": null,
      "outputs": []
    },
    {
      "cell_type": "code",
      "source": [
        "mostra_resultados(pergunta_resposta[0], pergunta_resposta[1])"
      ],
      "metadata": {
        "colab": {
          "base_uri": "https://localhost:8080/",
          "height": 333
        },
        "id": "7sRo-SjDXlTY",
        "outputId": "061ac4a6-6e83-4f34-b655-ac5c9a03bec5"
      },
      "execution_count": null,
      "outputs": [
        {
          "output_type": "display_data",
          "data": {
            "text/plain": [
              "<IPython.core.display.HTML object>"
            ],
            "text/html": [
              "\n",
              "  <p>Pergunta randômica selecionada do SQUAD</p>\n",
              "  <p>&nbsp;&nbsp;<b>What monarchy did western troops protect?</b></p>\n",
              "  <p>Resposta:</p>\n",
              "  <p>&nbsp;&nbsp;<b>Saudi</b></p>\n",
              "  <ol><li>His orders were to protect the King's land in the Ohio Valley from the British.</li><li>Tension with Paris led to a siege by the royal army in 1622.</li><li>Philip II of Spain ordered Pedro Menéndez de Avilés to protect the interest of Spain by attacking the French presence at Fort Caroline.</li><li>The Home Guard formed the core of the government's strategy as it was composed of loyalist Africans, not foreign forces like the British Army and King's African Rifles.</li><li>By 1620 the Huguenots were on the defensive, and the government increasingly applied pressure.</li><li>The grateful King bestowed the motto \"Fortiter Defendit Triumphans\" (\"Triumphing by a brave defence\") upon the town.</li><li>Monckton's forces, including companies of Rogers' Rangers, forcibly removed thousands of Acadians, chasing down many who resisted, and sometimes committing atrocities.</li><li>Edward the Confessor had set up the aforementioned Ralph as earl of Hereford and charged him with defending the Marches and warring with the Welsh.</li><li>A series of three small civil wars known as the Huguenot rebellions broke out, mainly in southwestern France, between 1621 and 1629. revolted against royal authority.</li><li>The rebellions were implacably suppressed by the French Crown.</li></ol>"
            ]
          },
          "metadata": {}
        }
      ]
    }
  ]
}